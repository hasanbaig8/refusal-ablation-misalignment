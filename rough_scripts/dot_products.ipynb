{
 "cells": [
  {
   "cell_type": "code",
   "execution_count": 32,
   "id": "4c9193f0",
   "metadata": {},
   "outputs": [],
   "source": [
    "import torch\n",
    "from einops import rearrange, einsum, reduce\n",
    "import matplotlib.pyplot as plt\n",
    "import json"
   ]
  },
  {
   "cell_type": "code",
   "execution_count": 23,
   "id": "836ea9d2",
   "metadata": {},
   "outputs": [],
   "source": [
    "potential_probes = torch.load('/workspace/refusal-ablation-misalignment/gemma-2-2b-it-potential-probes.pt').to('cuda')\n",
    "potential_probes /= potential_probes.norm(dim=-1, keepdim=True)\n"
   ]
  },
  {
   "cell_type": "code",
   "execution_count": 24,
   "id": "4c776ffe",
   "metadata": {},
   "outputs": [],
   "source": [
    "dot_products = einsum(potential_probes, potential_probes, 'l1 p1 d_model, l2 p2 d_model -> l1 l2 p1 p2')\n",
    "# %%\n"
   ]
  },
  {
   "cell_type": "code",
   "execution_count": 25,
   "id": "99fa4a49",
   "metadata": {},
   "outputs": [
    {
     "data": {
      "text/plain": [
       "tensor([[[[ 1.0000e+00,  1.6631e-01,  3.9777e-01,  9.3136e-02,  1.7183e-01],\n",
       "          [ 1.6631e-01,  1.0000e+00,  2.8982e-01,  3.0015e-01,  9.4015e-01],\n",
       "          [ 3.9777e-01,  2.8982e-01,  1.0000e+00,  2.7892e-01,  3.0462e-01],\n",
       "          [ 9.3136e-02,  3.0015e-01,  2.7892e-01,  1.0000e+00,  2.9276e-01],\n",
       "          [ 1.7183e-01,  9.4015e-01,  3.0462e-01,  2.9276e-01,  1.0000e+00]],\n",
       "\n",
       "         [[ 7.6003e-01,  1.7955e-01,  2.7041e-01,  7.3547e-02,  9.8634e-02],\n",
       "          [ 2.8754e-01,  4.8587e-01,  3.3326e-01,  1.6736e-01,  3.7317e-01],\n",
       "          [ 3.0068e-01,  2.4007e-01,  6.2456e-01,  1.9187e-01,  2.1956e-01],\n",
       "          [ 8.0614e-02,  2.2616e-01,  2.2705e-01,  4.2515e-01,  2.2617e-01],\n",
       "          [ 2.6106e-01,  4.5408e-01,  3.1321e-01,  1.6995e-01,  3.8620e-01]],\n",
       "\n",
       "         [[ 6.0576e-01,  1.5192e-01,  2.0709e-01,  7.2124e-02,  5.6904e-02],\n",
       "          [ 1.8455e-01,  3.1063e-01,  2.9287e-01,  1.2087e-01,  1.2877e-01],\n",
       "          [ 1.8507e-01,  1.4432e-01,  4.6908e-01,  1.5675e-01,  1.6613e-01],\n",
       "          [ 8.8078e-02,  1.1992e-01,  1.7409e-01,  2.9511e-01,  1.3955e-01],\n",
       "          [ 1.3810e-01,  2.7662e-01,  2.6065e-01,  1.3238e-01,  1.6073e-01]],\n",
       "\n",
       "         ...,\n",
       "\n",
       "         [[ 1.3358e-02, -3.7602e-02, -1.1558e-02, -2.3098e-02, -2.8853e-02],\n",
       "          [ 5.5142e-02,  1.7267e-04, -1.8520e-02,  5.8375e-03, -3.5451e-03],\n",
       "          [ 1.2879e-02, -1.0178e-02, -8.1286e-03, -5.7450e-04, -9.6850e-03],\n",
       "          [ 1.2668e-02, -6.0002e-03, -3.4118e-02, -3.7714e-02, -4.3804e-02],\n",
       "          [ 3.5784e-02, -5.8078e-03, -8.5817e-03,  3.7599e-03, -1.2643e-02]],\n",
       "\n",
       "         [[ 2.5268e-03, -4.1143e-02, -1.2993e-02, -3.5324e-02, -3.3479e-02],\n",
       "          [ 3.6205e-02, -5.8794e-03, -3.0551e-02,  5.2873e-03,  1.9563e-02],\n",
       "          [ 1.5885e-02, -1.0630e-02, -1.4523e-02, -4.7459e-03,  7.5064e-05],\n",
       "          [ 1.0912e-02, -2.6984e-03, -3.6855e-02, -3.8704e-02, -3.2113e-02],\n",
       "          [ 2.1600e-02, -9.1579e-03, -1.7747e-02,  2.7302e-03,  1.0697e-02]],\n",
       "\n",
       "         [[-2.9182e-02, -3.4478e-02,  1.0427e-02, -5.1686e-02, -2.6621e-02],\n",
       "          [ 2.7949e-02, -1.1382e-02, -3.7223e-02,  2.2424e-02,  3.6052e-02],\n",
       "          [-2.1486e-03, -2.4339e-02, -2.4308e-02,  4.0014e-03,  5.6475e-03],\n",
       "          [ 3.1291e-03, -1.2876e-02, -3.8275e-02, -3.3963e-02, -2.3430e-02],\n",
       "          [ 1.2078e-02, -1.2470e-02, -1.8501e-02,  9.8499e-03,  1.9379e-02]]],\n",
       "\n",
       "\n",
       "        [[[ 7.6003e-01,  2.8754e-01,  3.0068e-01,  8.0614e-02,  2.6106e-01],\n",
       "          [ 1.7955e-01,  4.8587e-01,  2.4007e-01,  2.2616e-01,  4.5408e-01],\n",
       "          [ 2.7041e-01,  3.3326e-01,  6.2456e-01,  2.2705e-01,  3.1321e-01],\n",
       "          [ 7.3547e-02,  1.6736e-01,  1.9187e-01,  4.2515e-01,  1.6995e-01],\n",
       "          [ 9.8634e-02,  3.7317e-01,  2.1956e-01,  2.2617e-01,  3.8620e-01]],\n",
       "\n",
       "         [[ 1.0000e+00,  3.9074e-01,  5.0950e-01,  1.7046e-01,  2.6327e-01],\n",
       "          [ 3.9074e-01,  1.0000e+00,  6.0887e-01,  5.2005e-01,  8.9467e-01],\n",
       "          [ 5.0950e-01,  6.0887e-01,  1.0000e+00,  4.2260e-01,  5.5649e-01],\n",
       "          [ 1.7046e-01,  5.2005e-01,  4.2260e-01,  1.0000e+00,  5.7443e-01],\n",
       "          [ 2.6327e-01,  8.9467e-01,  5.5649e-01,  5.7443e-01,  1.0000e+00]],\n",
       "\n",
       "         [[ 6.5666e-01,  3.0564e-01,  3.8689e-01,  1.2602e-01,  1.6982e-01],\n",
       "          [ 3.1109e-01,  6.1488e-01,  5.1122e-01,  3.4992e-01,  4.9192e-01],\n",
       "          [ 2.8480e-01,  3.7680e-01,  7.5962e-01,  3.0785e-01,  3.4625e-01],\n",
       "          [ 1.4150e-01,  2.9662e-01,  3.2601e-01,  6.8742e-01,  3.5252e-01],\n",
       "          [ 2.0125e-01,  5.3388e-01,  4.6755e-01,  3.7602e-01,  6.0310e-01]],\n",
       "\n",
       "         ...,\n",
       "\n",
       "         [[ 2.0630e-02, -3.5531e-02, -1.7286e-02, -3.9303e-02, -3.5409e-02],\n",
       "          [ 7.2998e-02,  1.9515e-02, -1.9341e-02,  8.4572e-03,  1.8027e-03],\n",
       "          [ 1.5421e-02, -2.6662e-02, -1.3132e-02, -2.1896e-02, -3.5617e-02],\n",
       "          [ 3.3892e-02,  2.0035e-02, -2.6939e-02, -2.9538e-02, -1.6814e-02],\n",
       "          [ 8.2733e-02,  4.1921e-02, -1.6517e-02,  1.7913e-02,  1.5948e-02]],\n",
       "\n",
       "         [[ 1.6976e-03, -4.6292e-02, -2.9908e-02, -4.3055e-02, -3.3784e-02],\n",
       "          [ 4.9320e-02,  1.4584e-03, -2.9532e-02,  7.1211e-04,  6.7150e-03],\n",
       "          [ 6.0459e-03, -3.4671e-02, -2.6467e-02, -2.1449e-02, -3.3110e-02],\n",
       "          [ 2.2812e-02,  1.4068e-02, -2.6663e-02, -2.6370e-02, -1.5524e-02],\n",
       "          [ 6.3711e-02,  2.9645e-02, -2.3719e-02,  9.5655e-03,  2.0631e-02]],\n",
       "\n",
       "         [[-1.7319e-02, -4.7404e-02, -3.0344e-02, -3.4868e-02, -6.2497e-03],\n",
       "          [ 3.3945e-02, -4.1262e-03, -4.3902e-02,  1.1287e-02,  1.0523e-02],\n",
       "          [-1.5990e-02, -6.1023e-02, -5.2571e-02, -4.4520e-03, -1.2266e-02],\n",
       "          [ 8.8088e-03,  4.1320e-03, -2.7963e-02, -3.2430e-02, -2.8549e-02],\n",
       "          [ 4.6353e-02,  2.1163e-02, -3.6221e-02,  1.1975e-02,  1.2054e-02]]],\n",
       "\n",
       "\n",
       "        [[[ 6.0576e-01,  1.8455e-01,  1.8507e-01,  8.8078e-02,  1.3810e-01],\n",
       "          [ 1.5192e-01,  3.1063e-01,  1.4432e-01,  1.1992e-01,  2.7662e-01],\n",
       "          [ 2.0709e-01,  2.9287e-01,  4.6908e-01,  1.7409e-01,  2.6065e-01],\n",
       "          [ 7.2124e-02,  1.2087e-01,  1.5675e-01,  2.9511e-01,  1.3238e-01],\n",
       "          [ 5.6904e-02,  1.2877e-01,  1.6613e-01,  1.3955e-01,  1.6073e-01]],\n",
       "\n",
       "         [[ 6.5666e-01,  3.1109e-01,  2.8480e-01,  1.4150e-01,  2.0125e-01],\n",
       "          [ 3.0564e-01,  6.1488e-01,  3.7680e-01,  2.9662e-01,  5.3388e-01],\n",
       "          [ 3.8689e-01,  5.1122e-01,  7.5962e-01,  3.2601e-01,  4.6755e-01],\n",
       "          [ 1.2602e-01,  3.4992e-01,  3.0785e-01,  6.8742e-01,  3.7602e-01],\n",
       "          [ 1.6982e-01,  4.9192e-01,  3.4625e-01,  3.5252e-01,  6.0310e-01]],\n",
       "\n",
       "         [[ 1.0000e+00,  4.1220e-01,  3.9921e-01,  1.5888e-01,  1.8907e-01],\n",
       "          [ 4.1220e-01,  1.0000e+00,  5.0696e-01,  3.5260e-01,  7.2994e-01],\n",
       "          [ 3.9921e-01,  5.0696e-01,  1.0000e+00,  3.1276e-01,  4.1749e-01],\n",
       "          [ 1.5888e-01,  3.5260e-01,  3.1276e-01,  1.0000e+00,  3.9083e-01],\n",
       "          [ 1.8907e-01,  7.2994e-01,  4.1749e-01,  3.9083e-01,  1.0000e+00]],\n",
       "\n",
       "         ...,\n",
       "\n",
       "         [[ 3.3581e-02, -1.8209e-02, -2.0361e-02,  2.6188e-02,  2.7372e-02],\n",
       "          [ 7.2280e-02,  3.7312e-02,  1.3902e-02,  2.7734e-02,  1.4855e-02],\n",
       "          [ 3.6827e-02, -5.1599e-03, -1.2134e-02, -3.4319e-03, -1.5412e-02],\n",
       "          [ 3.9070e-02,  3.1392e-02,  8.2909e-03, -9.3152e-03,  3.4086e-03],\n",
       "          [ 8.3746e-02,  6.2567e-02,  2.5271e-02,  2.7960e-02,  2.9057e-02]],\n",
       "\n",
       "         [[ 2.2443e-02, -1.8837e-02, -4.5416e-02,  1.7914e-02,  2.8436e-02],\n",
       "          [ 5.4003e-02,  2.1918e-02,  8.6399e-04,  1.6111e-02,  5.8162e-03],\n",
       "          [ 3.0518e-02, -1.2785e-02, -3.7437e-02, -3.6413e-03, -1.0086e-02],\n",
       "          [ 3.1767e-02,  3.3052e-02,  2.4165e-03, -1.7046e-03,  1.4502e-03],\n",
       "          [ 7.5050e-02,  5.5514e-02,  2.3231e-02,  2.0378e-02,  2.5403e-02]],\n",
       "\n",
       "         [[ 1.9525e-02, -1.9936e-02, -5.7920e-02,  2.2218e-02,  4.0422e-02],\n",
       "          [ 5.5111e-02,  3.2169e-02, -1.6920e-02,  1.4432e-02,  1.1059e-03],\n",
       "          [ 1.5896e-02, -3.0843e-02, -6.0675e-02,  4.8353e-03,  1.9493e-03],\n",
       "          [ 9.6345e-03,  1.4732e-02,  7.0444e-03, -1.7510e-02, -1.8698e-02],\n",
       "          [ 6.0966e-02,  5.2858e-02,  1.0172e-02,  2.2733e-03,  8.7931e-04]]],\n",
       "\n",
       "\n",
       "        ...,\n",
       "\n",
       "\n",
       "        [[[ 1.3358e-02,  5.5142e-02,  1.2879e-02,  1.2668e-02,  3.5784e-02],\n",
       "          [-3.7602e-02,  1.7267e-04, -1.0178e-02, -6.0002e-03, -5.8078e-03],\n",
       "          [-1.1558e-02, -1.8520e-02, -8.1286e-03, -3.4118e-02, -8.5817e-03],\n",
       "          [-2.3098e-02,  5.8375e-03, -5.7450e-04, -3.7714e-02,  3.7599e-03],\n",
       "          [-2.8853e-02, -3.5451e-03, -9.6850e-03, -4.3804e-02, -1.2643e-02]],\n",
       "\n",
       "         [[ 2.0630e-02,  7.2998e-02,  1.5421e-02,  3.3892e-02,  8.2733e-02],\n",
       "          [-3.5531e-02,  1.9515e-02, -2.6662e-02,  2.0035e-02,  4.1921e-02],\n",
       "          [-1.7286e-02, -1.9341e-02, -1.3132e-02, -2.6939e-02, -1.6517e-02],\n",
       "          [-3.9303e-02,  8.4572e-03, -2.1896e-02, -2.9538e-02,  1.7913e-02],\n",
       "          [-3.5409e-02,  1.8027e-03, -3.5617e-02, -1.6814e-02,  1.5948e-02]],\n",
       "\n",
       "         [[ 3.3581e-02,  7.2280e-02,  3.6827e-02,  3.9070e-02,  8.3746e-02],\n",
       "          [-1.8209e-02,  3.7312e-02, -5.1599e-03,  3.1392e-02,  6.2567e-02],\n",
       "          [-2.0361e-02,  1.3902e-02, -1.2134e-02,  8.2909e-03,  2.5271e-02],\n",
       "          [ 2.6188e-02,  2.7734e-02, -3.4319e-03, -9.3152e-03,  2.7960e-02],\n",
       "          [ 2.7372e-02,  1.4855e-02, -1.5412e-02,  3.4086e-03,  2.9057e-02]],\n",
       "\n",
       "         ...,\n",
       "\n",
       "         [[ 1.0000e+00,  7.9561e-01,  1.3703e-01,  1.6835e-01,  2.9405e-01],\n",
       "          [ 7.9561e-01,  1.0000e+00,  8.7670e-02,  1.0164e-01,  1.9815e-01],\n",
       "          [ 1.3703e-01,  8.7670e-02,  1.0000e+00,  2.9376e-01,  2.3364e-01],\n",
       "          [ 1.6835e-01,  1.0164e-01,  2.9376e-01,  1.0000e+00,  8.1150e-01],\n",
       "          [ 2.9405e-01,  1.9815e-01,  2.3364e-01,  8.1150e-01,  1.0000e+00]],\n",
       "\n",
       "         [[ 9.4082e-01,  7.3519e-01,  1.0452e-01,  1.6354e-01,  2.8841e-01],\n",
       "          [ 7.4728e-01,  9.2471e-01,  7.5660e-02,  1.1440e-01,  2.0283e-01],\n",
       "          [ 1.2664e-01,  9.6258e-02,  9.2975e-01,  2.6709e-01,  2.0699e-01],\n",
       "          [ 1.6433e-01,  1.1015e-01,  2.4800e-01,  9.2561e-01,  7.4405e-01],\n",
       "          [ 2.8636e-01,  1.9336e-01,  1.8419e-01,  7.5745e-01,  9.1272e-01]],\n",
       "\n",
       "         [[ 8.2052e-01,  6.6157e-01,  8.8774e-02,  2.1707e-01,  3.1538e-01],\n",
       "          [ 6.4868e-01,  8.0187e-01,  6.4318e-02,  1.5979e-01,  2.2751e-01],\n",
       "          [ 1.1528e-01,  1.0581e-01,  8.0110e-01,  2.1032e-01,  1.5977e-01],\n",
       "          [ 1.7407e-01,  1.3340e-01,  2.1885e-01,  7.9501e-01,  6.2508e-01],\n",
       "          [ 2.8390e-01,  2.1396e-01,  1.5362e-01,  6.5458e-01,  7.6081e-01]]],\n",
       "\n",
       "\n",
       "        [[[ 2.5268e-03,  3.6205e-02,  1.5885e-02,  1.0912e-02,  2.1600e-02],\n",
       "          [-4.1143e-02, -5.8794e-03, -1.0630e-02, -2.6984e-03, -9.1579e-03],\n",
       "          [-1.2993e-02, -3.0551e-02, -1.4523e-02, -3.6855e-02, -1.7747e-02],\n",
       "          [-3.5324e-02,  5.2873e-03, -4.7459e-03, -3.8704e-02,  2.7302e-03],\n",
       "          [-3.3479e-02,  1.9563e-02,  7.5064e-05, -3.2113e-02,  1.0697e-02]],\n",
       "\n",
       "         [[ 1.6976e-03,  4.9320e-02,  6.0459e-03,  2.2812e-02,  6.3711e-02],\n",
       "          [-4.6292e-02,  1.4584e-03, -3.4671e-02,  1.4068e-02,  2.9645e-02],\n",
       "          [-2.9908e-02, -2.9532e-02, -2.6467e-02, -2.6663e-02, -2.3719e-02],\n",
       "          [-4.3055e-02,  7.1211e-04, -2.1449e-02, -2.6370e-02,  9.5655e-03],\n",
       "          [-3.3784e-02,  6.7150e-03, -3.3110e-02, -1.5524e-02,  2.0631e-02]],\n",
       "\n",
       "         [[ 2.2443e-02,  5.4003e-02,  3.0518e-02,  3.1767e-02,  7.5050e-02],\n",
       "          [-1.8837e-02,  2.1918e-02, -1.2785e-02,  3.3052e-02,  5.5514e-02],\n",
       "          [-4.5416e-02,  8.6399e-04, -3.7437e-02,  2.4165e-03,  2.3231e-02],\n",
       "          [ 1.7914e-02,  1.6111e-02, -3.6413e-03, -1.7046e-03,  2.0378e-02],\n",
       "          [ 2.8436e-02,  5.8162e-03, -1.0086e-02,  1.4502e-03,  2.5403e-02]],\n",
       "\n",
       "         ...,\n",
       "\n",
       "         [[ 9.4082e-01,  7.4728e-01,  1.2664e-01,  1.6433e-01,  2.8636e-01],\n",
       "          [ 7.3519e-01,  9.2471e-01,  9.6258e-02,  1.1015e-01,  1.9336e-01],\n",
       "          [ 1.0452e-01,  7.5660e-02,  9.2975e-01,  2.4800e-01,  1.8419e-01],\n",
       "          [ 1.6354e-01,  1.1440e-01,  2.6709e-01,  9.2561e-01,  7.5745e-01],\n",
       "          [ 2.8841e-01,  2.0283e-01,  2.0699e-01,  7.4405e-01,  9.1272e-01]],\n",
       "\n",
       "         [[ 1.0000e+00,  7.7301e-01,  9.4815e-02,  1.7494e-01,  3.1329e-01],\n",
       "          [ 7.7301e-01,  1.0000e+00,  7.8649e-02,  1.2215e-01,  2.1392e-01],\n",
       "          [ 9.4815e-02,  7.8649e-02,  1.0000e+00,  2.3865e-01,  1.5733e-01],\n",
       "          [ 1.7494e-01,  1.2215e-01,  2.3865e-01,  1.0000e+00,  7.9393e-01],\n",
       "          [ 3.1329e-01,  2.1392e-01,  1.5733e-01,  7.9393e-01,  1.0000e+00]],\n",
       "\n",
       "         [[ 8.9200e-01,  6.8516e-01,  5.5108e-02,  2.5102e-01,  3.6009e-01],\n",
       "          [ 6.7610e-01,  8.7029e-01,  5.7711e-02,  1.6952e-01,  2.4186e-01],\n",
       "          [ 7.5228e-02,  1.0281e-01,  8.9426e-01,  1.6121e-01,  9.3434e-02],\n",
       "          [ 1.9659e-01,  1.4017e-01,  2.0636e-01,  8.9383e-01,  7.0058e-01],\n",
       "          [ 3.4323e-01,  2.2240e-01,  9.6911e-02,  7.4504e-01,  8.9944e-01]]],\n",
       "\n",
       "\n",
       "        [[[-2.9182e-02,  2.7949e-02, -2.1486e-03,  3.1291e-03,  1.2078e-02],\n",
       "          [-3.4478e-02, -1.1382e-02, -2.4339e-02, -1.2876e-02, -1.2470e-02],\n",
       "          [ 1.0427e-02, -3.7223e-02, -2.4308e-02, -3.8275e-02, -1.8501e-02],\n",
       "          [-5.1686e-02,  2.2424e-02,  4.0014e-03, -3.3963e-02,  9.8499e-03],\n",
       "          [-2.6621e-02,  3.6052e-02,  5.6475e-03, -2.3430e-02,  1.9379e-02]],\n",
       "\n",
       "         [[-1.7319e-02,  3.3945e-02, -1.5990e-02,  8.8088e-03,  4.6353e-02],\n",
       "          [-4.7404e-02, -4.1262e-03, -6.1023e-02,  4.1320e-03,  2.1163e-02],\n",
       "          [-3.0344e-02, -4.3902e-02, -5.2571e-02, -2.7963e-02, -3.6221e-02],\n",
       "          [-3.4868e-02,  1.1287e-02, -4.4520e-03, -3.2430e-02,  1.1975e-02],\n",
       "          [-6.2497e-03,  1.0523e-02, -1.2266e-02, -2.8549e-02,  1.2054e-02]],\n",
       "\n",
       "         [[ 1.9525e-02,  5.5111e-02,  1.5896e-02,  9.6345e-03,  6.0966e-02],\n",
       "          [-1.9936e-02,  3.2169e-02, -3.0843e-02,  1.4732e-02,  5.2858e-02],\n",
       "          [-5.7920e-02, -1.6920e-02, -6.0675e-02,  7.0444e-03,  1.0172e-02],\n",
       "          [ 2.2218e-02,  1.4432e-02,  4.8353e-03, -1.7510e-02,  2.2733e-03],\n",
       "          [ 4.0422e-02,  1.1059e-03,  1.9493e-03, -1.8698e-02,  8.7931e-04]],\n",
       "\n",
       "         ...,\n",
       "\n",
       "         [[ 8.2052e-01,  6.4868e-01,  1.1528e-01,  1.7407e-01,  2.8390e-01],\n",
       "          [ 6.6157e-01,  8.0187e-01,  1.0581e-01,  1.3340e-01,  2.1396e-01],\n",
       "          [ 8.8774e-02,  6.4318e-02,  8.0110e-01,  2.1885e-01,  1.5362e-01],\n",
       "          [ 2.1707e-01,  1.5979e-01,  2.1032e-01,  7.9501e-01,  6.5458e-01],\n",
       "          [ 3.1538e-01,  2.2751e-01,  1.5977e-01,  6.2508e-01,  7.6081e-01]],\n",
       "\n",
       "         [[ 8.9200e-01,  6.7610e-01,  7.5228e-02,  1.9659e-01,  3.4323e-01],\n",
       "          [ 6.8516e-01,  8.7029e-01,  1.0281e-01,  1.4017e-01,  2.2240e-01],\n",
       "          [ 5.5108e-02,  5.7711e-02,  8.9426e-01,  2.0636e-01,  9.6911e-02],\n",
       "          [ 2.5102e-01,  1.6952e-01,  1.6121e-01,  8.9383e-01,  7.4504e-01],\n",
       "          [ 3.6009e-01,  2.4186e-01,  9.3434e-02,  7.0058e-01,  8.9944e-01]],\n",
       "\n",
       "         [[ 1.0000e+00,  7.3965e-01,  1.8614e-02,  3.2828e-01,  4.4198e-01],\n",
       "          [ 7.3965e-01,  1.0000e+00,  1.2814e-01,  1.6787e-01,  2.3847e-01],\n",
       "          [ 1.8614e-02,  1.2814e-01,  1.0000e+00,  8.3513e-02,  6.3381e-03],\n",
       "          [ 3.2828e-01,  1.6787e-01,  8.3513e-02,  1.0000e+00,  8.1806e-01],\n",
       "          [ 4.4198e-01,  2.3847e-01,  6.3381e-03,  8.1806e-01,  1.0000e+00]]]],\n",
       "       device='cuda:0')"
      ]
     },
     "execution_count": 25,
     "metadata": {},
     "output_type": "execute_result"
    }
   ],
   "source": [
    "dot_products"
   ]
  },
  {
   "cell_type": "code",
   "execution_count": 31,
   "id": "d9930d04",
   "metadata": {},
   "outputs": [
    {
     "data": {
      "text/plain": [
       "<matplotlib.colorbar.Colorbar at 0x7d4d2b783710>"
      ]
     },
     "execution_count": 31,
     "metadata": {},
     "output_type": "execute_result"
    },
    {
     "data": {
      "image/png": "[encoded data removed]",
      "text/plain": [
       "<Figure size 640x480 with 2 Axes>"
      ]
     },
     "metadata": {},
     "output_type": "display_data"
    }
   ],
   "source": [
    "plt.imshow(dot_products[15, 10].cpu().numpy(), vmin=0, vmax=1)\n",
    "plt.colorbar()"
   ]
  },
  {
   "cell_type": "code",
   "execution_count": 51,
   "id": "0b45c5dc",
   "metadata": {},
   "outputs": [],
   "source": [
    "n_layers = 26\n",
    "n_positions = 5\n",
    "scores = torch.zeros(n_layers, n_positions)\n",
    "for layer in range(n_layers):\n",
    "    for position in range(n_positions):\n",
    "        with open(f'/workspace/refusal-ablation-misalignment/generations/gemma-2-2b-it-harmful-val-generations-{layer}-{position}.json', 'r') as f:\n",
    "            generations = json.load(f)\n",
    "            refusal_rate = torch.tensor(['\\nI cannot' in x.split('<start_of_turn>')[-1] for x in generations],dtype = torch.float32).mean().item()\n",
    "            scores[layer, position] = refusal_rate"
   ]
  },
  {
   "cell_type": "code",
   "execution_count": 53,
   "id": "04e2d0a7",
   "metadata": {},
   "outputs": [
    {
     "data": {
      "text/plain": [
       "<matplotlib.image.AxesImage at 0x7d4d25705b10>"
      ]
     },
     "execution_count": 53,
     "metadata": {},
     "output_type": "execute_result"
    },
    {
     "data": {
      "image/png": "[encoded data removed]",
      "text/plain": [
       "<Figure size 640x480 with 1 Axes>"
      ]
     },
     "metadata": {},
     "output_type": "display_data"
    }
   ],
   "source": [
    "plt.imshow(scores.cpu().numpy())"
   ]
  },
  {
   "cell_type": "code",
   "execution_count": 61,
   "id": "ca8b5f2a",
   "metadata": {},
   "outputs": [],
   "source": [
    "interesting_idxes = [(l.item(), p.item()) for l, p in zip(*torch.where(scores < 0.1))]"
   ]
  },
  {
   "cell_type": "code",
   "execution_count": 66,
   "id": "fb5baaaa",
   "metadata": {},
   "outputs": [
    {
     "name": "stdout",
     "output_type": "stream",
     "text": [
      "l1: 7, p1: 4, l2: 18, p2: 3\n",
      "l1: 7, p1: 4, l2: 20, p2: 3\n",
      "l1: 18, p1: 3, l2: 7, p2: 4\n",
      "l1: 20, p1: 3, l2: 7, p2: 4\n"
     ]
    }
   ],
   "source": [
    "for l1, p1 in interesting_idxes:\n",
    "    for l2, p2 in interesting_idxes:\n",
    "        if l1 == l2 and p1 == p2:\n",
    "            continue\n",
    "        else:\n",
    "            if dot_products[l1, l2, p1, p2].abs() <0.01:\n",
    "                print(f'l1: {l1}, p1: {p1}, l2: {l2}, p2: {p2}')\n",
    "# %%\n",
    "\n"
   ]
  },
  {
   "cell_type": "code",
   "execution_count": null,
   "id": "839bbbd8",
   "metadata": {},
   "outputs": [],
   "source": []
  }
 ],
 "metadata": {
  "kernelspec": {
   "display_name": "myenv",
   "language": "python",
   "name": "python3"
  },
  "language_info": {
   "codemirror_mode": {
    "name": "ipython",
    "version": 3
   },
   "file_extension": ".py",
   "mimetype": "text/x-python",
   "name": "python",
   "nbconvert_exporter": "python",
   "pygments_lexer": "ipython3",
   "version": "3.11.11"
  }
 },
 "nbformat": 4,
 "nbformat_minor": 5
}
